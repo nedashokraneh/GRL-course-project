{
 "cells": [
  {
   "cell_type": "raw",
   "metadata": {},
   "source": [
    "Training and fine-tuning GCC and LogME scores"
   ]
  },
  {
   "cell_type": "code",
   "execution_count": 1,
   "metadata": {},
   "outputs": [
    {
     "name": "stderr",
     "output_type": "stream",
     "text": [
      "Using backend: pytorch\n"
     ]
    }
   ],
   "source": [
    "import pandas as pd\n",
    "import seaborn as sns\n",
    "import sys\n",
    "sys.path.append(\"..\")\n",
    "sys.path.append(\"/home/nshokran/projects/GRL-course-project/LogME\")\n",
    "from LogME import LogME\n",
    "import torch\n",
    "import gcc\n",
    "from gcc.datasets import (\n",
    "    GRAPH_CLASSIFICATION_DSETS,\n",
    "    GraphClassificationDataset,\n",
    "    GraphClassificationDatasetLabeled,\n",
    "    #LoadBalanceGraphDataset,\n",
    "    NodeClassificationDataset,\n",
    "    NodeClassificationDatasetLabeled,\n",
    "    worker_init_fn,\n",
    ")\n",
    "from gcc.datasets.data_util import batcher\n",
    "from gcc.models import GraphEncoder\n",
    "from gcc.datasets import data_util\n"
   ]
  },
  {
   "cell_type": "code",
   "execution_count": 2,
   "metadata": {},
   "outputs": [],
   "source": [
    "def print_model_args(args):\n",
    "    for arg in vars(args):\n",
    "        print(arg , \" \", vars(args)[arg])\n",
    "        \n",
    "def test_moco(train_loader, model, opt):\n",
    "    \"\"\"\n",
    "    one epoch training for moco\n",
    "    \"\"\"\n",
    "\n",
    "    model.eval()\n",
    "\n",
    "    emb_list = []\n",
    "    for idx, batch in enumerate(train_loader):\n",
    "        graph_q, graph_k = batch\n",
    "        bsz = graph_q.batch_size\n",
    "        graph_q.to(opt.device)\n",
    "        graph_k.to(opt.device)\n",
    "\n",
    "        with torch.no_grad():\n",
    "            feat_q = model(graph_q)\n",
    "            feat_k = model(graph_k)\n",
    "\n",
    "        assert feat_q.shape == (bsz, opt.hidden_size)\n",
    "        emb_list.append(((feat_q + feat_k) / 2).detach().cpu())\n",
    "    return torch.cat(emb_list)"
   ]
  },
  {
   "cell_type": "markdown",
   "metadata": {},
   "source": [
    "Loading and training models"
   ]
  },
  {
   "cell_type": "code",
   "execution_count": 3,
   "metadata": {},
   "outputs": [
    {
     "data": {
      "text/plain": [
       "<All keys matched successfully>"
      ]
     },
     "execution_count": 3,
     "metadata": {},
     "output_type": "execute_result"
    }
   ],
   "source": [
    "checkpoint = torch.load('../saved/Pretrain_moco_False_dgl_gin_layer_5_lr_0.005_decay_1e-05_bsz_256_hid_64_samples_2000_nce_t_0.07_nce_k_32_rw_hops_256_restart_prob_0.8_aug_1st_ft_False_deg_16_pos_32_momentum_0.999/current.pth', map_location=\"cpu\")\n",
    "#print_model_args(checkpoint[\"opt\"])\n",
    "args = checkpoint[\"opt\"]\n",
    "args.device = torch.device(\"cpu\")\n",
    "model = GraphEncoder(\n",
    "        positional_embedding_size=args.positional_embedding_size,\n",
    "        max_node_freq=args.max_node_freq,\n",
    "        max_edge_freq=args.max_edge_freq,\n",
    "        max_degree=args.max_degree,\n",
    "        freq_embedding_size=args.freq_embedding_size,\n",
    "        degree_embedding_size=args.degree_embedding_size,\n",
    "        output_dim=args.hidden_size,\n",
    "        node_hidden_dim=args.hidden_size,\n",
    "        edge_hidden_dim=args.hidden_size,\n",
    "        num_layers=args.num_layer,\n",
    "        num_step_set2set=args.set2set_iter,\n",
    "        num_layer_set2set=args.set2set_lstm_layer,\n",
    "        gnn_model=args.model,\n",
    "        norm=args.norm,\n",
    "        degree_input=True,\n",
    "    )\n",
    "model.load_state_dict(checkpoint[\"model\"])"
   ]
  },
  {
   "cell_type": "code",
   "execution_count": 4,
   "metadata": {},
   "outputs": [
    {
     "name": "stderr",
     "output_type": "stream",
     "text": [
      "/home/nshokran/miniconda3/envs/GRL/lib/python3.7/site-packages/dgl/base.py:45: DGLWarning: DGLGraph.out_degree is deprecated. Please use DGLGraph.out_degrees\n",
      "  return warnings.warn(message, category=category, stacklevel=1)\n"
     ]
    },
    {
     "ename": "DGLError",
     "evalue": "Caught DGLError in DataLoader worker process 0.\nOriginal Traceback (most recent call last):\n  File \"/home/nshokran/miniconda3/envs/GRL/lib/python3.7/site-packages/torch/utils/data/_utils/worker.py\", line 287, in _worker_loop\n    data = fetcher.fetch(index)\n  File \"/home/nshokran/miniconda3/envs/GRL/lib/python3.7/site-packages/torch/utils/data/_utils/fetch.py\", line 49, in fetch\n    data = [self.dataset[idx] for idx in possibly_batched_index]\n  File \"/home/nshokran/miniconda3/envs/GRL/lib/python3.7/site-packages/torch/utils/data/_utils/fetch.py\", line 49, in <listcomp>\n    data = [self.dataset[idx] for idx in possibly_batched_index]\n  File \"../gcc/datasets/graph_dataset.py\", line 259, in __getitem__\n    max_nodes_per_seed=max_nodes_per_seed,\n  File \"/home/nshokran/miniconda3/envs/GRL/lib/python3.7/site-packages/dgl/contrib/sampling/randomwalk.py\", line 128, in random_walk_with_restart\n    int(max_visit_counts), int(max_frequent_visited_nodes))\n  File \"dgl/_ffi/_cython/./function.pxi\", line 287, in dgl._ffi._cy3.core.FunctionBase.__call__\n  File \"dgl/_ffi/_cython/./function.pxi\", line 232, in dgl._ffi._cy3.core.FuncCall\n  File \"dgl/_ffi/_cython/./base.pxi\", line 155, in dgl._ffi._cy3.core.CALL\ndgl._ffi.base.DGLError: [12:31:18] /opt/dgl/include/dgl/packed_func_ext.h:117: Check failed: ObjectTypeChecker<TObjectRef>::Check(sptr.get()): Expected type graph.Graph but get graph.HeteroGraph\nStack trace:\n  [bt] (0) /home/nshokran/miniconda3/envs/GRL/lib/python3.7/site-packages/dgl/libdgl.so(dmlc::LogMessageFatal::~LogMessageFatal()+0x4f) [0x7f707d7a603f]\n  [bt] (1) /home/nshokran/miniconda3/envs/GRL/lib/python3.7/site-packages/dgl/libdgl.so(dgl::GraphRef dgl::runtime::DGLArgValue::AsObjectRef<dgl::GraphRef>() const+0x264) [0x7f707d92a4a4]\n  [bt] (2) /home/nshokran/miniconda3/envs/GRL/lib/python3.7/site-packages/dgl/libdgl.so(+0x9d036f) [0x7f707df5e36f]\n  [bt] (3) /home/nshokran/miniconda3/envs/GRL/lib/python3.7/site-packages/dgl/libdgl.so(DGLFuncCall+0x48) [0x7f707de99d48]\n  [bt] (4) /home/nshokran/miniconda3/envs/GRL/lib/python3.7/site-packages/dgl/_ffi/_cy3/core.cpython-37m-x86_64-linux-gnu.so(+0x163da) [0x7f707d3853da]\n  [bt] (5) /home/nshokran/miniconda3/envs/GRL/lib/python3.7/site-packages/dgl/_ffi/_cy3/core.cpython-37m-x86_64-linux-gnu.so(+0x1694b) [0x7f707d38594b]\n  [bt] (6) /home/nshokran/miniconda3/envs/GRL/bin/python(_PyObject_FastCallKeywords+0x15c) [0x560ed472e88c]\n  [bt] (7) /home/nshokran/miniconda3/envs/GRL/bin/python(_PyEval_EvalFrameDefault+0x47e5) [0x560ed4776545]\n  [bt] (8) /home/nshokran/miniconda3/envs/GRL/bin/python(_PyEval_EvalCodeWithName+0x273) [0x560ed46c7bb3]\n\n\n",
     "output_type": "error",
     "traceback": [
      "\u001b[0;31m---------------------------------------------------------------------------\u001b[0m",
      "\u001b[0;31mDGLError\u001b[0m                                  Traceback (most recent call last)",
      "\u001b[0;32m<ipython-input-4-87de67e76bd2>\u001b[0m in \u001b[0;36m<module>\u001b[0;34m\u001b[0m\n\u001b[1;32m     14\u001b[0m     \u001b[0mnum_workers\u001b[0m\u001b[0;34m=\u001b[0m\u001b[0margs\u001b[0m\u001b[0;34m.\u001b[0m\u001b[0mnum_workers\u001b[0m\u001b[0;34m,\u001b[0m\u001b[0;34m\u001b[0m\u001b[0;34m\u001b[0m\u001b[0m\n\u001b[1;32m     15\u001b[0m )\n\u001b[0;32m---> 16\u001b[0;31m \u001b[0mbbbp_emb\u001b[0m \u001b[0;34m=\u001b[0m \u001b[0mtest_moco\u001b[0m\u001b[0;34m(\u001b[0m\u001b[0mbbbp_train_loader\u001b[0m\u001b[0;34m,\u001b[0m \u001b[0mmodel\u001b[0m\u001b[0;34m,\u001b[0m \u001b[0margs\u001b[0m\u001b[0;34m)\u001b[0m\u001b[0;34m\u001b[0m\u001b[0;34m\u001b[0m\u001b[0m\n\u001b[0m",
      "\u001b[0;32m<ipython-input-2-3623b73946de>\u001b[0m in \u001b[0;36mtest_moco\u001b[0;34m(train_loader, model, opt)\u001b[0m\n\u001b[1;32m     11\u001b[0m \u001b[0;34m\u001b[0m\u001b[0m\n\u001b[1;32m     12\u001b[0m     \u001b[0memb_list\u001b[0m \u001b[0;34m=\u001b[0m \u001b[0;34m[\u001b[0m\u001b[0;34m]\u001b[0m\u001b[0;34m\u001b[0m\u001b[0;34m\u001b[0m\u001b[0m\n\u001b[0;32m---> 13\u001b[0;31m     \u001b[0;32mfor\u001b[0m \u001b[0midx\u001b[0m\u001b[0;34m,\u001b[0m \u001b[0mbatch\u001b[0m \u001b[0;32min\u001b[0m \u001b[0menumerate\u001b[0m\u001b[0;34m(\u001b[0m\u001b[0mtrain_loader\u001b[0m\u001b[0;34m)\u001b[0m\u001b[0;34m:\u001b[0m\u001b[0;34m\u001b[0m\u001b[0;34m\u001b[0m\u001b[0m\n\u001b[0m\u001b[1;32m     14\u001b[0m         \u001b[0mgraph_q\u001b[0m\u001b[0;34m,\u001b[0m \u001b[0mgraph_k\u001b[0m \u001b[0;34m=\u001b[0m \u001b[0mbatch\u001b[0m\u001b[0;34m\u001b[0m\u001b[0;34m\u001b[0m\u001b[0m\n\u001b[1;32m     15\u001b[0m         \u001b[0mbsz\u001b[0m \u001b[0;34m=\u001b[0m \u001b[0mgraph_q\u001b[0m\u001b[0;34m.\u001b[0m\u001b[0mbatch_size\u001b[0m\u001b[0;34m\u001b[0m\u001b[0;34m\u001b[0m\u001b[0m\n",
      "\u001b[0;32m~/miniconda3/envs/GRL/lib/python3.7/site-packages/torch/utils/data/dataloader.py\u001b[0m in \u001b[0;36m__next__\u001b[0;34m(self)\u001b[0m\n\u001b[1;32m    519\u001b[0m             \u001b[0;32mif\u001b[0m \u001b[0mself\u001b[0m\u001b[0;34m.\u001b[0m\u001b[0m_sampler_iter\u001b[0m \u001b[0;32mis\u001b[0m \u001b[0;32mNone\u001b[0m\u001b[0;34m:\u001b[0m\u001b[0;34m\u001b[0m\u001b[0;34m\u001b[0m\u001b[0m\n\u001b[1;32m    520\u001b[0m                 \u001b[0mself\u001b[0m\u001b[0;34m.\u001b[0m\u001b[0m_reset\u001b[0m\u001b[0;34m(\u001b[0m\u001b[0;34m)\u001b[0m\u001b[0;34m\u001b[0m\u001b[0;34m\u001b[0m\u001b[0m\n\u001b[0;32m--> 521\u001b[0;31m             \u001b[0mdata\u001b[0m \u001b[0;34m=\u001b[0m \u001b[0mself\u001b[0m\u001b[0;34m.\u001b[0m\u001b[0m_next_data\u001b[0m\u001b[0;34m(\u001b[0m\u001b[0;34m)\u001b[0m\u001b[0;34m\u001b[0m\u001b[0;34m\u001b[0m\u001b[0m\n\u001b[0m\u001b[1;32m    522\u001b[0m             \u001b[0mself\u001b[0m\u001b[0;34m.\u001b[0m\u001b[0m_num_yielded\u001b[0m \u001b[0;34m+=\u001b[0m \u001b[0;36m1\u001b[0m\u001b[0;34m\u001b[0m\u001b[0;34m\u001b[0m\u001b[0m\n\u001b[1;32m    523\u001b[0m             \u001b[0;32mif\u001b[0m \u001b[0mself\u001b[0m\u001b[0;34m.\u001b[0m\u001b[0m_dataset_kind\u001b[0m \u001b[0;34m==\u001b[0m \u001b[0m_DatasetKind\u001b[0m\u001b[0;34m.\u001b[0m\u001b[0mIterable\u001b[0m \u001b[0;32mand\u001b[0m\u001b[0;31m \u001b[0m\u001b[0;31m\\\u001b[0m\u001b[0;34m\u001b[0m\u001b[0;34m\u001b[0m\u001b[0m\n",
      "\u001b[0;32m~/miniconda3/envs/GRL/lib/python3.7/site-packages/torch/utils/data/dataloader.py\u001b[0m in \u001b[0;36m_next_data\u001b[0;34m(self)\u001b[0m\n\u001b[1;32m   1201\u001b[0m             \u001b[0;32melse\u001b[0m\u001b[0;34m:\u001b[0m\u001b[0;34m\u001b[0m\u001b[0;34m\u001b[0m\u001b[0m\n\u001b[1;32m   1202\u001b[0m                 \u001b[0;32mdel\u001b[0m \u001b[0mself\u001b[0m\u001b[0;34m.\u001b[0m\u001b[0m_task_info\u001b[0m\u001b[0;34m[\u001b[0m\u001b[0midx\u001b[0m\u001b[0;34m]\u001b[0m\u001b[0;34m\u001b[0m\u001b[0;34m\u001b[0m\u001b[0m\n\u001b[0;32m-> 1203\u001b[0;31m                 \u001b[0;32mreturn\u001b[0m \u001b[0mself\u001b[0m\u001b[0;34m.\u001b[0m\u001b[0m_process_data\u001b[0m\u001b[0;34m(\u001b[0m\u001b[0mdata\u001b[0m\u001b[0;34m)\u001b[0m\u001b[0;34m\u001b[0m\u001b[0;34m\u001b[0m\u001b[0m\n\u001b[0m\u001b[1;32m   1204\u001b[0m \u001b[0;34m\u001b[0m\u001b[0m\n\u001b[1;32m   1205\u001b[0m     \u001b[0;32mdef\u001b[0m \u001b[0m_try_put_index\u001b[0m\u001b[0;34m(\u001b[0m\u001b[0mself\u001b[0m\u001b[0;34m)\u001b[0m\u001b[0;34m:\u001b[0m\u001b[0;34m\u001b[0m\u001b[0;34m\u001b[0m\u001b[0m\n",
      "\u001b[0;32m~/miniconda3/envs/GRL/lib/python3.7/site-packages/torch/utils/data/dataloader.py\u001b[0m in \u001b[0;36m_process_data\u001b[0;34m(self, data)\u001b[0m\n\u001b[1;32m   1227\u001b[0m         \u001b[0mself\u001b[0m\u001b[0;34m.\u001b[0m\u001b[0m_try_put_index\u001b[0m\u001b[0;34m(\u001b[0m\u001b[0;34m)\u001b[0m\u001b[0;34m\u001b[0m\u001b[0;34m\u001b[0m\u001b[0m\n\u001b[1;32m   1228\u001b[0m         \u001b[0;32mif\u001b[0m \u001b[0misinstance\u001b[0m\u001b[0;34m(\u001b[0m\u001b[0mdata\u001b[0m\u001b[0;34m,\u001b[0m \u001b[0mExceptionWrapper\u001b[0m\u001b[0;34m)\u001b[0m\u001b[0;34m:\u001b[0m\u001b[0;34m\u001b[0m\u001b[0;34m\u001b[0m\u001b[0m\n\u001b[0;32m-> 1229\u001b[0;31m             \u001b[0mdata\u001b[0m\u001b[0;34m.\u001b[0m\u001b[0mreraise\u001b[0m\u001b[0;34m(\u001b[0m\u001b[0;34m)\u001b[0m\u001b[0;34m\u001b[0m\u001b[0;34m\u001b[0m\u001b[0m\n\u001b[0m\u001b[1;32m   1230\u001b[0m         \u001b[0;32mreturn\u001b[0m \u001b[0mdata\u001b[0m\u001b[0;34m\u001b[0m\u001b[0;34m\u001b[0m\u001b[0m\n\u001b[1;32m   1231\u001b[0m \u001b[0;34m\u001b[0m\u001b[0m\n",
      "\u001b[0;32m~/miniconda3/envs/GRL/lib/python3.7/site-packages/torch/_utils.py\u001b[0m in \u001b[0;36mreraise\u001b[0;34m(self)\u001b[0m\n\u001b[1;32m    432\u001b[0m             \u001b[0;31m# instantiate since we don't know how to\u001b[0m\u001b[0;34m\u001b[0m\u001b[0;34m\u001b[0m\u001b[0;34m\u001b[0m\u001b[0m\n\u001b[1;32m    433\u001b[0m             \u001b[0;32mraise\u001b[0m \u001b[0mRuntimeError\u001b[0m\u001b[0;34m(\u001b[0m\u001b[0mmsg\u001b[0m\u001b[0;34m)\u001b[0m \u001b[0;32mfrom\u001b[0m \u001b[0;32mNone\u001b[0m\u001b[0;34m\u001b[0m\u001b[0;34m\u001b[0m\u001b[0m\n\u001b[0;32m--> 434\u001b[0;31m         \u001b[0;32mraise\u001b[0m \u001b[0mexception\u001b[0m\u001b[0;34m\u001b[0m\u001b[0;34m\u001b[0m\u001b[0m\n\u001b[0m\u001b[1;32m    435\u001b[0m \u001b[0;34m\u001b[0m\u001b[0m\n\u001b[1;32m    436\u001b[0m \u001b[0;34m\u001b[0m\u001b[0m\n",
      "\u001b[0;31mDGLError\u001b[0m: Caught DGLError in DataLoader worker process 0.\nOriginal Traceback (most recent call last):\n  File \"/home/nshokran/miniconda3/envs/GRL/lib/python3.7/site-packages/torch/utils/data/_utils/worker.py\", line 287, in _worker_loop\n    data = fetcher.fetch(index)\n  File \"/home/nshokran/miniconda3/envs/GRL/lib/python3.7/site-packages/torch/utils/data/_utils/fetch.py\", line 49, in fetch\n    data = [self.dataset[idx] for idx in possibly_batched_index]\n  File \"/home/nshokran/miniconda3/envs/GRL/lib/python3.7/site-packages/torch/utils/data/_utils/fetch.py\", line 49, in <listcomp>\n    data = [self.dataset[idx] for idx in possibly_batched_index]\n  File \"../gcc/datasets/graph_dataset.py\", line 259, in __getitem__\n    max_nodes_per_seed=max_nodes_per_seed,\n  File \"/home/nshokran/miniconda3/envs/GRL/lib/python3.7/site-packages/dgl/contrib/sampling/randomwalk.py\", line 128, in random_walk_with_restart\n    int(max_visit_counts), int(max_frequent_visited_nodes))\n  File \"dgl/_ffi/_cython/./function.pxi\", line 287, in dgl._ffi._cy3.core.FunctionBase.__call__\n  File \"dgl/_ffi/_cython/./function.pxi\", line 232, in dgl._ffi._cy3.core.FuncCall\n  File \"dgl/_ffi/_cython/./base.pxi\", line 155, in dgl._ffi._cy3.core.CALL\ndgl._ffi.base.DGLError: [12:31:18] /opt/dgl/include/dgl/packed_func_ext.h:117: Check failed: ObjectTypeChecker<TObjectRef>::Check(sptr.get()): Expected type graph.Graph but get graph.HeteroGraph\nStack trace:\n  [bt] (0) /home/nshokran/miniconda3/envs/GRL/lib/python3.7/site-packages/dgl/libdgl.so(dmlc::LogMessageFatal::~LogMessageFatal()+0x4f) [0x7f707d7a603f]\n  [bt] (1) /home/nshokran/miniconda3/envs/GRL/lib/python3.7/site-packages/dgl/libdgl.so(dgl::GraphRef dgl::runtime::DGLArgValue::AsObjectRef<dgl::GraphRef>() const+0x264) [0x7f707d92a4a4]\n  [bt] (2) /home/nshokran/miniconda3/envs/GRL/lib/python3.7/site-packages/dgl/libdgl.so(+0x9d036f) [0x7f707df5e36f]\n  [bt] (3) /home/nshokran/miniconda3/envs/GRL/lib/python3.7/site-packages/dgl/libdgl.so(DGLFuncCall+0x48) [0x7f707de99d48]\n  [bt] (4) /home/nshokran/miniconda3/envs/GRL/lib/python3.7/site-packages/dgl/_ffi/_cy3/core.cpython-37m-x86_64-linux-gnu.so(+0x163da) [0x7f707d3853da]\n  [bt] (5) /home/nshokran/miniconda3/envs/GRL/lib/python3.7/site-packages/dgl/_ffi/_cy3/core.cpython-37m-x86_64-linux-gnu.so(+0x1694b) [0x7f707d38594b]\n  [bt] (6) /home/nshokran/miniconda3/envs/GRL/bin/python(_PyObject_FastCallKeywords+0x15c) [0x560ed472e88c]\n  [bt] (7) /home/nshokran/miniconda3/envs/GRL/bin/python(_PyEval_EvalFrameDefault+0x47e5) [0x560ed4776545]\n  [bt] (8) /home/nshokran/miniconda3/envs/GRL/bin/python(_PyEval_EvalCodeWithName+0x273) [0x560ed46c7bb3]\n\n\n"
     ]
    }
   ],
   "source": [
    "bbbp_train_dataset = GraphClassificationDataset(\n",
    "            dataset='bbbp',\n",
    "            rw_hops=args.rw_hops,\n",
    "            subgraph_size=args.subgraph_size,\n",
    "            restart_prob=args.restart_prob,\n",
    "            positional_embedding_size=args.positional_embedding_size,\n",
    "        )\n",
    "args.batch_size = len(bbbp_train_dataset)\n",
    "bbbp_train_loader = torch.utils.data.DataLoader(\n",
    "    dataset=bbbp_train_dataset,\n",
    "    batch_size=args.batch_size,\n",
    "    collate_fn=batcher(),\n",
    "    shuffle=False,\n",
    "    num_workers=args.num_workers,\n",
    ")\n",
    "bbbp_emb = test_moco(bbbp_train_loader, model, args)"
   ]
  },
  {
   "cell_type": "markdown",
   "metadata": {},
   "source": [
    "loading dataset"
   ]
  },
  {
   "cell_type": "code",
   "execution_count": 4,
   "metadata": {},
   "outputs": [
    {
     "ename": "BlockingIOError",
     "evalue": "[Errno 11] Resource temporarily unavailable",
     "output_type": "error",
     "traceback": [
      "\u001b[0;31m---------------------------------------------------------------------------\u001b[0m",
      "\u001b[0;31mBlockingIOError\u001b[0m                           Traceback (most recent call last)",
      "\u001b[0;32m<ipython-input-4-174f314de118>\u001b[0m in \u001b[0;36m<module>\u001b[0;34m\u001b[0m\n\u001b[1;32m     14\u001b[0m     \u001b[0mnum_workers\u001b[0m\u001b[0;34m=\u001b[0m\u001b[0margs\u001b[0m\u001b[0;34m.\u001b[0m\u001b[0mnum_workers\u001b[0m\u001b[0;34m,\u001b[0m\u001b[0;34m\u001b[0m\u001b[0;34m\u001b[0m\u001b[0m\n\u001b[1;32m     15\u001b[0m )\n\u001b[0;32m---> 16\u001b[0;31m \u001b[0mimdb_binary_emb\u001b[0m \u001b[0;34m=\u001b[0m \u001b[0mtest_moco\u001b[0m\u001b[0;34m(\u001b[0m\u001b[0mimdb_binary_train_loader\u001b[0m\u001b[0;34m,\u001b[0m \u001b[0mmodel\u001b[0m\u001b[0;34m,\u001b[0m \u001b[0margs\u001b[0m\u001b[0;34m)\u001b[0m\u001b[0;34m\u001b[0m\u001b[0;34m\u001b[0m\u001b[0m\n\u001b[0m",
      "\u001b[0;32m<ipython-input-2-3623b73946de>\u001b[0m in \u001b[0;36mtest_moco\u001b[0;34m(train_loader, model, opt)\u001b[0m\n\u001b[1;32m     11\u001b[0m \u001b[0;34m\u001b[0m\u001b[0m\n\u001b[1;32m     12\u001b[0m     \u001b[0memb_list\u001b[0m \u001b[0;34m=\u001b[0m \u001b[0;34m[\u001b[0m\u001b[0;34m]\u001b[0m\u001b[0;34m\u001b[0m\u001b[0;34m\u001b[0m\u001b[0m\n\u001b[0;32m---> 13\u001b[0;31m     \u001b[0;32mfor\u001b[0m \u001b[0midx\u001b[0m\u001b[0;34m,\u001b[0m \u001b[0mbatch\u001b[0m \u001b[0;32min\u001b[0m \u001b[0menumerate\u001b[0m\u001b[0;34m(\u001b[0m\u001b[0mtrain_loader\u001b[0m\u001b[0;34m)\u001b[0m\u001b[0;34m:\u001b[0m\u001b[0;34m\u001b[0m\u001b[0;34m\u001b[0m\u001b[0m\n\u001b[0m\u001b[1;32m     14\u001b[0m         \u001b[0mgraph_q\u001b[0m\u001b[0;34m,\u001b[0m \u001b[0mgraph_k\u001b[0m \u001b[0;34m=\u001b[0m \u001b[0mbatch\u001b[0m\u001b[0;34m\u001b[0m\u001b[0;34m\u001b[0m\u001b[0m\n\u001b[1;32m     15\u001b[0m         \u001b[0mbsz\u001b[0m \u001b[0;34m=\u001b[0m \u001b[0mgraph_q\u001b[0m\u001b[0;34m.\u001b[0m\u001b[0mbatch_size\u001b[0m\u001b[0;34m\u001b[0m\u001b[0;34m\u001b[0m\u001b[0m\n",
      "\u001b[0;32m~/miniconda3/lib/python3.7/site-packages/torch/utils/data/dataloader.py\u001b[0m in \u001b[0;36m__iter__\u001b[0;34m(self)\u001b[0m\n\u001b[1;32m    357\u001b[0m             \u001b[0;32mreturn\u001b[0m \u001b[0mself\u001b[0m\u001b[0;34m.\u001b[0m\u001b[0m_iterator\u001b[0m\u001b[0;34m\u001b[0m\u001b[0;34m\u001b[0m\u001b[0m\n\u001b[1;32m    358\u001b[0m         \u001b[0;32melse\u001b[0m\u001b[0;34m:\u001b[0m\u001b[0;34m\u001b[0m\u001b[0;34m\u001b[0m\u001b[0m\n\u001b[0;32m--> 359\u001b[0;31m             \u001b[0;32mreturn\u001b[0m \u001b[0mself\u001b[0m\u001b[0;34m.\u001b[0m\u001b[0m_get_iterator\u001b[0m\u001b[0;34m(\u001b[0m\u001b[0;34m)\u001b[0m\u001b[0;34m\u001b[0m\u001b[0;34m\u001b[0m\u001b[0m\n\u001b[0m\u001b[1;32m    360\u001b[0m \u001b[0;34m\u001b[0m\u001b[0m\n\u001b[1;32m    361\u001b[0m     \u001b[0;34m@\u001b[0m\u001b[0mproperty\u001b[0m\u001b[0;34m\u001b[0m\u001b[0;34m\u001b[0m\u001b[0m\n",
      "\u001b[0;32m~/miniconda3/lib/python3.7/site-packages/torch/utils/data/dataloader.py\u001b[0m in \u001b[0;36m_get_iterator\u001b[0;34m(self)\u001b[0m\n\u001b[1;32m    303\u001b[0m         \u001b[0;32melse\u001b[0m\u001b[0;34m:\u001b[0m\u001b[0;34m\u001b[0m\u001b[0;34m\u001b[0m\u001b[0m\n\u001b[1;32m    304\u001b[0m             \u001b[0mself\u001b[0m\u001b[0;34m.\u001b[0m\u001b[0mcheck_worker_number_rationality\u001b[0m\u001b[0;34m(\u001b[0m\u001b[0;34m)\u001b[0m\u001b[0;34m\u001b[0m\u001b[0;34m\u001b[0m\u001b[0m\n\u001b[0;32m--> 305\u001b[0;31m             \u001b[0;32mreturn\u001b[0m \u001b[0m_MultiProcessingDataLoaderIter\u001b[0m\u001b[0;34m(\u001b[0m\u001b[0mself\u001b[0m\u001b[0;34m)\u001b[0m\u001b[0;34m\u001b[0m\u001b[0;34m\u001b[0m\u001b[0m\n\u001b[0m\u001b[1;32m    306\u001b[0m \u001b[0;34m\u001b[0m\u001b[0m\n\u001b[1;32m    307\u001b[0m     \u001b[0;34m@\u001b[0m\u001b[0mproperty\u001b[0m\u001b[0;34m\u001b[0m\u001b[0;34m\u001b[0m\u001b[0m\n",
      "\u001b[0;32m~/miniconda3/lib/python3.7/site-packages/torch/utils/data/dataloader.py\u001b[0m in \u001b[0;36m__init__\u001b[0;34m(self, loader)\u001b[0m\n\u001b[1;32m    916\u001b[0m             \u001b[0;31m#     before it starts, and __del__ tries to join but will get:\u001b[0m\u001b[0;34m\u001b[0m\u001b[0;34m\u001b[0m\u001b[0;34m\u001b[0m\u001b[0m\n\u001b[1;32m    917\u001b[0m             \u001b[0;31m#     AssertionError: can only join a started process.\u001b[0m\u001b[0;34m\u001b[0m\u001b[0;34m\u001b[0m\u001b[0;34m\u001b[0m\u001b[0m\n\u001b[0;32m--> 918\u001b[0;31m             \u001b[0mw\u001b[0m\u001b[0;34m.\u001b[0m\u001b[0mstart\u001b[0m\u001b[0;34m(\u001b[0m\u001b[0;34m)\u001b[0m\u001b[0;34m\u001b[0m\u001b[0;34m\u001b[0m\u001b[0m\n\u001b[0m\u001b[1;32m    919\u001b[0m             \u001b[0mself\u001b[0m\u001b[0;34m.\u001b[0m\u001b[0m_index_queues\u001b[0m\u001b[0;34m.\u001b[0m\u001b[0mappend\u001b[0m\u001b[0;34m(\u001b[0m\u001b[0mindex_queue\u001b[0m\u001b[0;34m)\u001b[0m\u001b[0;34m\u001b[0m\u001b[0;34m\u001b[0m\u001b[0m\n\u001b[1;32m    920\u001b[0m             \u001b[0mself\u001b[0m\u001b[0;34m.\u001b[0m\u001b[0m_workers\u001b[0m\u001b[0;34m.\u001b[0m\u001b[0mappend\u001b[0m\u001b[0;34m(\u001b[0m\u001b[0mw\u001b[0m\u001b[0;34m)\u001b[0m\u001b[0;34m\u001b[0m\u001b[0;34m\u001b[0m\u001b[0m\n",
      "\u001b[0;32m~/miniconda3/lib/python3.7/multiprocessing/process.py\u001b[0m in \u001b[0;36mstart\u001b[0;34m(self)\u001b[0m\n\u001b[1;32m    110\u001b[0m                \u001b[0;34m'daemonic processes are not allowed to have children'\u001b[0m\u001b[0;34m\u001b[0m\u001b[0;34m\u001b[0m\u001b[0m\n\u001b[1;32m    111\u001b[0m         \u001b[0m_cleanup\u001b[0m\u001b[0;34m(\u001b[0m\u001b[0;34m)\u001b[0m\u001b[0;34m\u001b[0m\u001b[0;34m\u001b[0m\u001b[0m\n\u001b[0;32m--> 112\u001b[0;31m         \u001b[0mself\u001b[0m\u001b[0;34m.\u001b[0m\u001b[0m_popen\u001b[0m \u001b[0;34m=\u001b[0m \u001b[0mself\u001b[0m\u001b[0;34m.\u001b[0m\u001b[0m_Popen\u001b[0m\u001b[0;34m(\u001b[0m\u001b[0mself\u001b[0m\u001b[0;34m)\u001b[0m\u001b[0;34m\u001b[0m\u001b[0;34m\u001b[0m\u001b[0m\n\u001b[0m\u001b[1;32m    113\u001b[0m         \u001b[0mself\u001b[0m\u001b[0;34m.\u001b[0m\u001b[0m_sentinel\u001b[0m \u001b[0;34m=\u001b[0m \u001b[0mself\u001b[0m\u001b[0;34m.\u001b[0m\u001b[0m_popen\u001b[0m\u001b[0;34m.\u001b[0m\u001b[0msentinel\u001b[0m\u001b[0;34m\u001b[0m\u001b[0;34m\u001b[0m\u001b[0m\n\u001b[1;32m    114\u001b[0m         \u001b[0;31m# Avoid a refcycle if the target function holds an indirect\u001b[0m\u001b[0;34m\u001b[0m\u001b[0;34m\u001b[0m\u001b[0;34m\u001b[0m\u001b[0m\n",
      "\u001b[0;32m~/miniconda3/lib/python3.7/multiprocessing/context.py\u001b[0m in \u001b[0;36m_Popen\u001b[0;34m(process_obj)\u001b[0m\n\u001b[1;32m    221\u001b[0m     \u001b[0;34m@\u001b[0m\u001b[0mstaticmethod\u001b[0m\u001b[0;34m\u001b[0m\u001b[0;34m\u001b[0m\u001b[0m\n\u001b[1;32m    222\u001b[0m     \u001b[0;32mdef\u001b[0m \u001b[0m_Popen\u001b[0m\u001b[0;34m(\u001b[0m\u001b[0mprocess_obj\u001b[0m\u001b[0;34m)\u001b[0m\u001b[0;34m:\u001b[0m\u001b[0;34m\u001b[0m\u001b[0;34m\u001b[0m\u001b[0m\n\u001b[0;32m--> 223\u001b[0;31m         \u001b[0;32mreturn\u001b[0m \u001b[0m_default_context\u001b[0m\u001b[0;34m.\u001b[0m\u001b[0mget_context\u001b[0m\u001b[0;34m(\u001b[0m\u001b[0;34m)\u001b[0m\u001b[0;34m.\u001b[0m\u001b[0mProcess\u001b[0m\u001b[0;34m.\u001b[0m\u001b[0m_Popen\u001b[0m\u001b[0;34m(\u001b[0m\u001b[0mprocess_obj\u001b[0m\u001b[0;34m)\u001b[0m\u001b[0;34m\u001b[0m\u001b[0;34m\u001b[0m\u001b[0m\n\u001b[0m\u001b[1;32m    224\u001b[0m \u001b[0;34m\u001b[0m\u001b[0m\n\u001b[1;32m    225\u001b[0m \u001b[0;32mclass\u001b[0m \u001b[0mDefaultContext\u001b[0m\u001b[0;34m(\u001b[0m\u001b[0mBaseContext\u001b[0m\u001b[0;34m)\u001b[0m\u001b[0;34m:\u001b[0m\u001b[0;34m\u001b[0m\u001b[0;34m\u001b[0m\u001b[0m\n",
      "\u001b[0;32m~/miniconda3/lib/python3.7/multiprocessing/context.py\u001b[0m in \u001b[0;36m_Popen\u001b[0;34m(process_obj)\u001b[0m\n\u001b[1;32m    275\u001b[0m         \u001b[0;32mdef\u001b[0m \u001b[0m_Popen\u001b[0m\u001b[0;34m(\u001b[0m\u001b[0mprocess_obj\u001b[0m\u001b[0;34m)\u001b[0m\u001b[0;34m:\u001b[0m\u001b[0;34m\u001b[0m\u001b[0;34m\u001b[0m\u001b[0m\n\u001b[1;32m    276\u001b[0m             \u001b[0;32mfrom\u001b[0m \u001b[0;34m.\u001b[0m\u001b[0mpopen_fork\u001b[0m \u001b[0;32mimport\u001b[0m \u001b[0mPopen\u001b[0m\u001b[0;34m\u001b[0m\u001b[0;34m\u001b[0m\u001b[0m\n\u001b[0;32m--> 277\u001b[0;31m             \u001b[0;32mreturn\u001b[0m \u001b[0mPopen\u001b[0m\u001b[0;34m(\u001b[0m\u001b[0mprocess_obj\u001b[0m\u001b[0;34m)\u001b[0m\u001b[0;34m\u001b[0m\u001b[0;34m\u001b[0m\u001b[0m\n\u001b[0m\u001b[1;32m    278\u001b[0m \u001b[0;34m\u001b[0m\u001b[0m\n\u001b[1;32m    279\u001b[0m     \u001b[0;32mclass\u001b[0m \u001b[0mSpawnProcess\u001b[0m\u001b[0;34m(\u001b[0m\u001b[0mprocess\u001b[0m\u001b[0;34m.\u001b[0m\u001b[0mBaseProcess\u001b[0m\u001b[0;34m)\u001b[0m\u001b[0;34m:\u001b[0m\u001b[0;34m\u001b[0m\u001b[0;34m\u001b[0m\u001b[0m\n",
      "\u001b[0;32m~/miniconda3/lib/python3.7/multiprocessing/popen_fork.py\u001b[0m in \u001b[0;36m__init__\u001b[0;34m(self, process_obj)\u001b[0m\n\u001b[1;32m     18\u001b[0m         \u001b[0mself\u001b[0m\u001b[0;34m.\u001b[0m\u001b[0mreturncode\u001b[0m \u001b[0;34m=\u001b[0m \u001b[0;32mNone\u001b[0m\u001b[0;34m\u001b[0m\u001b[0;34m\u001b[0m\u001b[0m\n\u001b[1;32m     19\u001b[0m         \u001b[0mself\u001b[0m\u001b[0;34m.\u001b[0m\u001b[0mfinalizer\u001b[0m \u001b[0;34m=\u001b[0m \u001b[0;32mNone\u001b[0m\u001b[0;34m\u001b[0m\u001b[0;34m\u001b[0m\u001b[0m\n\u001b[0;32m---> 20\u001b[0;31m         \u001b[0mself\u001b[0m\u001b[0;34m.\u001b[0m\u001b[0m_launch\u001b[0m\u001b[0;34m(\u001b[0m\u001b[0mprocess_obj\u001b[0m\u001b[0;34m)\u001b[0m\u001b[0;34m\u001b[0m\u001b[0;34m\u001b[0m\u001b[0m\n\u001b[0m\u001b[1;32m     21\u001b[0m \u001b[0;34m\u001b[0m\u001b[0m\n\u001b[1;32m     22\u001b[0m     \u001b[0;32mdef\u001b[0m \u001b[0mduplicate_for_child\u001b[0m\u001b[0;34m(\u001b[0m\u001b[0mself\u001b[0m\u001b[0;34m,\u001b[0m \u001b[0mfd\u001b[0m\u001b[0;34m)\u001b[0m\u001b[0;34m:\u001b[0m\u001b[0;34m\u001b[0m\u001b[0;34m\u001b[0m\u001b[0m\n",
      "\u001b[0;32m~/miniconda3/lib/python3.7/multiprocessing/popen_fork.py\u001b[0m in \u001b[0;36m_launch\u001b[0;34m(self, process_obj)\u001b[0m\n\u001b[1;32m     68\u001b[0m         \u001b[0mcode\u001b[0m \u001b[0;34m=\u001b[0m \u001b[0;36m1\u001b[0m\u001b[0;34m\u001b[0m\u001b[0;34m\u001b[0m\u001b[0m\n\u001b[1;32m     69\u001b[0m         \u001b[0mparent_r\u001b[0m\u001b[0;34m,\u001b[0m \u001b[0mchild_w\u001b[0m \u001b[0;34m=\u001b[0m \u001b[0mos\u001b[0m\u001b[0;34m.\u001b[0m\u001b[0mpipe\u001b[0m\u001b[0;34m(\u001b[0m\u001b[0;34m)\u001b[0m\u001b[0;34m\u001b[0m\u001b[0;34m\u001b[0m\u001b[0m\n\u001b[0;32m---> 70\u001b[0;31m         \u001b[0mself\u001b[0m\u001b[0;34m.\u001b[0m\u001b[0mpid\u001b[0m \u001b[0;34m=\u001b[0m \u001b[0mos\u001b[0m\u001b[0;34m.\u001b[0m\u001b[0mfork\u001b[0m\u001b[0;34m(\u001b[0m\u001b[0;34m)\u001b[0m\u001b[0;34m\u001b[0m\u001b[0;34m\u001b[0m\u001b[0m\n\u001b[0m\u001b[1;32m     71\u001b[0m         \u001b[0;32mif\u001b[0m \u001b[0mself\u001b[0m\u001b[0;34m.\u001b[0m\u001b[0mpid\u001b[0m \u001b[0;34m==\u001b[0m \u001b[0;36m0\u001b[0m\u001b[0;34m:\u001b[0m\u001b[0;34m\u001b[0m\u001b[0;34m\u001b[0m\u001b[0m\n\u001b[1;32m     72\u001b[0m             \u001b[0;32mtry\u001b[0m\u001b[0;34m:\u001b[0m\u001b[0;34m\u001b[0m\u001b[0;34m\u001b[0m\u001b[0m\n",
      "\u001b[0;31mBlockingIOError\u001b[0m: [Errno 11] Resource temporarily unavailable"
     ]
    }
   ],
   "source": [
    "imdb_binary_train_dataset = GraphClassificationDataset(\n",
    "            dataset='imdb-binary',\n",
    "            rw_hops=args.rw_hops,\n",
    "            subgraph_size=args.subgraph_size,\n",
    "            restart_prob=args.restart_prob,\n",
    "            positional_embedding_size=args.positional_embedding_size,\n",
    "        )\n",
    "args.batch_size = len(imdb_binary_train_dataset)\n",
    "imdb_binary_train_loader = torch.utils.data.DataLoader(\n",
    "    dataset=imdb_binary_train_dataset,\n",
    "    batch_size=args.batch_size,\n",
    "    collate_fn=batcher(),\n",
    "    shuffle=False,\n",
    "    num_workers=args.num_workers,\n",
    ")\n",
    "imdb_binary_emb = test_moco(imdb_binary_train_loader, model, args)"
   ]
  },
  {
   "cell_type": "code",
   "execution_count": 6,
   "metadata": {},
   "outputs": [],
   "source": [
    "imdb_binary = data_util.create_graph_classification_dataset(\"imdb-binary\")\n",
    "imdb_binary_labels = imdb_binary.graph_labels\n",
    "imdb_binary_df = pd.DataFrame(imdb_binary_emb.numpy())\n",
    "imdb_binary_df.columns = ['emb'+str(e+1) for e in range(imdb_binary_df.shape[1])]\n",
    "imdb_binary_df['label'] = imdb_binary_labels"
   ]
  },
  {
   "cell_type": "markdown",
   "metadata": {},
   "source": [
    "Analysis"
   ]
  },
  {
   "cell_type": "code",
   "execution_count": 27,
   "metadata": {},
   "outputs": [],
   "source": [
    "#import sys\n",
    "#sys.path.append(\"/home/nshokran/projects/GRL-course-project/LogME\")\n",
    "#from LogME import LogME\n",
    "#from sklearn.manifold import TSNE\n",
    "import numpy as np\n",
    "import pandas as pd\n",
    "import seaborn as sns\n",
    "from sklearn.model_selection import StratifiedKFold\n",
    "from sklearn.svm import SVC\n",
    "from sklearn.metrics import accuracy_score, f1_score"
   ]
  },
  {
   "cell_type": "code",
   "execution_count": 8,
   "metadata": {},
   "outputs": [],
   "source": [
    "imdb_b_emb = pd.read_csv(\"results/imdb-binary.txt\", sep = \"\\t\")\n",
    "imdb_m_emb = pd.read_csv(\"results/imdb-multi.txt\", sep = \"\\t\")\n",
    "imdb_b_logme = LogME(regression=False)\n",
    "imdb_b_logme_score = imdb_b_logme.fit(np.array(imdb_b_emb.iloc[:,:-1]), np.array(imdb_b_emb.iloc[:,-1]))\n",
    "imdb_m_logme = LogME(regression=False)\n",
    "imdb_m_logme_score = imdb_m_logme.fit(np.array(imdb_m_emb.iloc[:,:-1]), np.array(imdb_m_emb.iloc[:,-1]))"
   ]
  },
  {
   "cell_type": "code",
   "execution_count": null,
   "metadata": {},
   "outputs": [],
   "source": [
    "imdb_b_tsne = TSNE(n_components=2, learning_rate='auto', init='random').fit_transform(np.array(imdb_b_emb.iloc[:,:-1]))\n",
    "imdb_b_emb['tsne1'] = imdb_b_tsne[:,0]\n",
    "imdb_b_emb['tsne2'] = imdb_b_tsne[:,1]\n",
    "imdb_m_tsne = TSNE(n_components=2, learning_rate='auto', init='random').fit_transform(np.array(imdb_m_emb.iloc[:,:-1]))\n",
    "imdb_m_emb['tsne1'] = imdb_m_tsne[:,0]\n",
    "imdb_m_emb['tsne2'] = imdb_m_tsne[:,1]"
   ]
  },
  {
   "cell_type": "code",
   "execution_count": 2,
   "metadata": {},
   "outputs": [],
   "source": [
    "imdb_b_emb = pd.read_csv(\"results/imdb_binary.txt\", sep = \"\\t\")\n",
    "imdb_m_emb = pd.read_csv(\"results/imdb_multi.txt\", sep = \"\\t\")"
   ]
  },
  {
   "cell_type": "code",
   "execution_count": 32,
   "metadata": {},
   "outputs": [],
   "source": [
    "def svc_classify(x, y):\n",
    "    kf = StratifiedKFold(n_splits=10, shuffle=True, random_state=0)\n",
    "    accuracies = []\n",
    "    f1_scores = []\n",
    "    for train_index, test_index in kf.split(x, y):\n",
    "        x_train, x_test = x[train_index], x[test_index]\n",
    "        y_train, y_test = y[train_index], y[test_index]\n",
    "        # x_train, x_val, y_train, y_val = train_test_split(x_train, y_train, test_size=0.1)\n",
    "        classifier = SVC(C=100000)\n",
    "        classifier.fit(x_train, y_train)\n",
    "        classifier_results = classifier.predict(x_test)\n",
    "        accuracies.append(accuracy_score(y_test, classifier_results))\n",
    "        #f1_scores.append(f1_score(y_test, classifier_results))\n",
    "    #return {\"accuracy\": np.mean(accuracies), \"f1\": np.mean(f1_scores)}\n",
    "    return {\"accuracy\": np.mean(accuracies)}"
   ]
  },
  {
   "cell_type": "code",
   "execution_count": 30,
   "metadata": {},
   "outputs": [
    {
     "data": {
      "text/plain": [
       "{'accuracy': 0.694, 'f1': 0.6943543375925163}"
      ]
     },
     "execution_count": 30,
     "metadata": {},
     "output_type": "execute_result"
    }
   ],
   "source": [
    "x = np.array(imdb_b_emb.iloc[:,0:64])\n",
    "y = imdb_b_emb.iloc[:,64].values\n",
    "svc_classify(x,y)"
   ]
  },
  {
   "cell_type": "code",
   "execution_count": 33,
   "metadata": {},
   "outputs": [
    {
     "data": {
      "text/plain": [
       "{'accuracy': 0.46733333333333327}"
      ]
     },
     "execution_count": 33,
     "metadata": {},
     "output_type": "execute_result"
    }
   ],
   "source": [
    "x = np.array(imdb_m_emb.iloc[:,0:64])\n",
    "y = imdb_m_emb.iloc[:,64].values\n",
    "svc_classify(x,y)"
   ]
  },
  {
   "cell_type": "code",
   "execution_count": 12,
   "metadata": {},
   "outputs": [
    {
     "data": {
      "text/plain": [
       "<matplotlib.axes._subplots.AxesSubplot at 0x7f500d6e82d0>"
      ]
     },
     "execution_count": 12,
     "metadata": {},
     "output_type": "execute_result"
    },
    {
     "data": {
      "image/png": "[encoded data removed]",
      "text/plain": [
       "<Figure size 432x288 with 1 Axes>"
      ]
     },
     "metadata": {
      "needs_background": "light"
     },
     "output_type": "display_data"
    }
   ],
   "source": [
    "sns.scatterplot(data = imdb_b_emb, x = 'tsne1', y = 'tsne2', hue = 'label')"
   ]
  },
  {
   "cell_type": "code",
   "execution_count": 8,
   "metadata": {},
   "outputs": [
    {
     "data": {
      "text/html": [
       "<div>\n",
       "<style scoped>\n",
       "    .dataframe tbody tr th:only-of-type {\n",
       "        vertical-align: middle;\n",
       "    }\n",
       "\n",
       "    .dataframe tbody tr th {\n",
       "        vertical-align: top;\n",
       "    }\n",
       "\n",
       "    .dataframe thead th {\n",
       "        text-align: right;\n",
       "    }\n",
       "</style>\n",
       "<table border=\"1\" class=\"dataframe\">\n",
       "  <thead>\n",
       "    <tr style=\"text-align: right;\">\n",
       "      <th></th>\n",
       "      <th>emb1</th>\n",
       "      <th>emb2</th>\n",
       "      <th>emb3</th>\n",
       "      <th>emb4</th>\n",
       "      <th>emb5</th>\n",
       "      <th>emb6</th>\n",
       "      <th>emb7</th>\n",
       "      <th>emb8</th>\n",
       "      <th>emb9</th>\n",
       "      <th>emb10</th>\n",
       "      <th>...</th>\n",
       "      <th>emb56</th>\n",
       "      <th>emb57</th>\n",
       "      <th>emb58</th>\n",
       "      <th>emb59</th>\n",
       "      <th>emb60</th>\n",
       "      <th>emb61</th>\n",
       "      <th>emb62</th>\n",
       "      <th>emb63</th>\n",
       "      <th>emb64</th>\n",
       "      <th>label</th>\n",
       "    </tr>\n",
       "  </thead>\n",
       "  <tbody>\n",
       "    <tr>\n",
       "      <th>0</th>\n",
       "      <td>0.228962</td>\n",
       "      <td>0.083805</td>\n",
       "      <td>-0.140420</td>\n",
       "      <td>-0.033234</td>\n",
       "      <td>0.042628</td>\n",
       "      <td>0.007385</td>\n",
       "      <td>0.074834</td>\n",
       "      <td>-0.057010</td>\n",
       "      <td>-0.065887</td>\n",
       "      <td>0.004487</td>\n",
       "      <td>...</td>\n",
       "      <td>0.046837</td>\n",
       "      <td>-0.073768</td>\n",
       "      <td>-0.009309</td>\n",
       "      <td>0.047397</td>\n",
       "      <td>0.013749</td>\n",
       "      <td>-0.144846</td>\n",
       "      <td>0.016526</td>\n",
       "      <td>0.059148</td>\n",
       "      <td>0.028196</td>\n",
       "      <td>0</td>\n",
       "    </tr>\n",
       "    <tr>\n",
       "      <th>1</th>\n",
       "      <td>0.112345</td>\n",
       "      <td>-0.110162</td>\n",
       "      <td>-0.049215</td>\n",
       "      <td>0.030967</td>\n",
       "      <td>0.059604</td>\n",
       "      <td>0.020554</td>\n",
       "      <td>0.159742</td>\n",
       "      <td>0.056014</td>\n",
       "      <td>-0.008418</td>\n",
       "      <td>0.097214</td>\n",
       "      <td>...</td>\n",
       "      <td>-0.074082</td>\n",
       "      <td>-0.060490</td>\n",
       "      <td>-0.061794</td>\n",
       "      <td>0.009771</td>\n",
       "      <td>0.192610</td>\n",
       "      <td>0.071524</td>\n",
       "      <td>-0.074423</td>\n",
       "      <td>0.160235</td>\n",
       "      <td>0.110978</td>\n",
       "      <td>0</td>\n",
       "    </tr>\n",
       "    <tr>\n",
       "      <th>2</th>\n",
       "      <td>0.193050</td>\n",
       "      <td>0.193153</td>\n",
       "      <td>-0.204177</td>\n",
       "      <td>-0.094694</td>\n",
       "      <td>0.036922</td>\n",
       "      <td>-0.060042</td>\n",
       "      <td>0.097124</td>\n",
       "      <td>-0.087261</td>\n",
       "      <td>0.017398</td>\n",
       "      <td>0.004848</td>\n",
       "      <td>...</td>\n",
       "      <td>-0.068493</td>\n",
       "      <td>-0.082819</td>\n",
       "      <td>0.016868</td>\n",
       "      <td>-0.026742</td>\n",
       "      <td>0.214230</td>\n",
       "      <td>-0.067817</td>\n",
       "      <td>0.069325</td>\n",
       "      <td>-0.055631</td>\n",
       "      <td>0.042263</td>\n",
       "      <td>0</td>\n",
       "    </tr>\n",
       "    <tr>\n",
       "      <th>3</th>\n",
       "      <td>0.091823</td>\n",
       "      <td>-0.134413</td>\n",
       "      <td>-0.072570</td>\n",
       "      <td>0.071144</td>\n",
       "      <td>0.043333</td>\n",
       "      <td>0.093897</td>\n",
       "      <td>0.121458</td>\n",
       "      <td>0.040021</td>\n",
       "      <td>0.004845</td>\n",
       "      <td>-0.023117</td>\n",
       "      <td>...</td>\n",
       "      <td>-0.058172</td>\n",
       "      <td>0.033966</td>\n",
       "      <td>-0.008498</td>\n",
       "      <td>0.042473</td>\n",
       "      <td>0.175773</td>\n",
       "      <td>-0.026874</td>\n",
       "      <td>-0.069125</td>\n",
       "      <td>-0.116104</td>\n",
       "      <td>0.103617</td>\n",
       "      <td>0</td>\n",
       "    </tr>\n",
       "    <tr>\n",
       "      <th>4</th>\n",
       "      <td>-0.001039</td>\n",
       "      <td>0.072989</td>\n",
       "      <td>-0.112819</td>\n",
       "      <td>-0.123128</td>\n",
       "      <td>0.040796</td>\n",
       "      <td>-0.047505</td>\n",
       "      <td>0.212016</td>\n",
       "      <td>-0.138357</td>\n",
       "      <td>0.099370</td>\n",
       "      <td>0.032931</td>\n",
       "      <td>...</td>\n",
       "      <td>0.016640</td>\n",
       "      <td>0.033006</td>\n",
       "      <td>-0.029080</td>\n",
       "      <td>0.006594</td>\n",
       "      <td>0.260974</td>\n",
       "      <td>0.031444</td>\n",
       "      <td>0.004193</td>\n",
       "      <td>-0.022474</td>\n",
       "      <td>0.068863</td>\n",
       "      <td>0</td>\n",
       "    </tr>\n",
       "    <tr>\n",
       "      <th>...</th>\n",
       "      <td>...</td>\n",
       "      <td>...</td>\n",
       "      <td>...</td>\n",
       "      <td>...</td>\n",
       "      <td>...</td>\n",
       "      <td>...</td>\n",
       "      <td>...</td>\n",
       "      <td>...</td>\n",
       "      <td>...</td>\n",
       "      <td>...</td>\n",
       "      <td>...</td>\n",
       "      <td>...</td>\n",
       "      <td>...</td>\n",
       "      <td>...</td>\n",
       "      <td>...</td>\n",
       "      <td>...</td>\n",
       "      <td>...</td>\n",
       "      <td>...</td>\n",
       "      <td>...</td>\n",
       "      <td>...</td>\n",
       "      <td>...</td>\n",
       "    </tr>\n",
       "    <tr>\n",
       "      <th>995</th>\n",
       "      <td>-0.011442</td>\n",
       "      <td>-0.044228</td>\n",
       "      <td>-0.135488</td>\n",
       "      <td>0.006562</td>\n",
       "      <td>0.139129</td>\n",
       "      <td>0.020007</td>\n",
       "      <td>0.188978</td>\n",
       "      <td>-0.187108</td>\n",
       "      <td>0.035097</td>\n",
       "      <td>-0.081460</td>\n",
       "      <td>...</td>\n",
       "      <td>0.062804</td>\n",
       "      <td>0.097173</td>\n",
       "      <td>-0.014781</td>\n",
       "      <td>0.106411</td>\n",
       "      <td>0.179583</td>\n",
       "      <td>-0.070074</td>\n",
       "      <td>0.077377</td>\n",
       "      <td>0.068020</td>\n",
       "      <td>0.032537</td>\n",
       "      <td>1</td>\n",
       "    </tr>\n",
       "    <tr>\n",
       "      <th>996</th>\n",
       "      <td>0.019073</td>\n",
       "      <td>0.117217</td>\n",
       "      <td>0.076421</td>\n",
       "      <td>-0.255333</td>\n",
       "      <td>-0.202184</td>\n",
       "      <td>-0.166018</td>\n",
       "      <td>0.004149</td>\n",
       "      <td>-0.025671</td>\n",
       "      <td>-0.058100</td>\n",
       "      <td>0.062228</td>\n",
       "      <td>...</td>\n",
       "      <td>0.088084</td>\n",
       "      <td>-0.161992</td>\n",
       "      <td>-0.138375</td>\n",
       "      <td>-0.107549</td>\n",
       "      <td>0.133772</td>\n",
       "      <td>0.092842</td>\n",
       "      <td>-0.161691</td>\n",
       "      <td>-0.128737</td>\n",
       "      <td>0.107607</td>\n",
       "      <td>1</td>\n",
       "    </tr>\n",
       "    <tr>\n",
       "      <th>997</th>\n",
       "      <td>-0.080405</td>\n",
       "      <td>-0.113715</td>\n",
       "      <td>-0.178541</td>\n",
       "      <td>-0.038824</td>\n",
       "      <td>0.009713</td>\n",
       "      <td>-0.095919</td>\n",
       "      <td>0.087858</td>\n",
       "      <td>-0.173818</td>\n",
       "      <td>-0.077768</td>\n",
       "      <td>-0.207995</td>\n",
       "      <td>...</td>\n",
       "      <td>-0.092152</td>\n",
       "      <td>-0.123822</td>\n",
       "      <td>0.075535</td>\n",
       "      <td>-0.011656</td>\n",
       "      <td>0.123321</td>\n",
       "      <td>0.145299</td>\n",
       "      <td>-0.215023</td>\n",
       "      <td>-0.082978</td>\n",
       "      <td>0.138191</td>\n",
       "      <td>1</td>\n",
       "    </tr>\n",
       "    <tr>\n",
       "      <th>998</th>\n",
       "      <td>0.302978</td>\n",
       "      <td>-0.071349</td>\n",
       "      <td>-0.109753</td>\n",
       "      <td>0.047268</td>\n",
       "      <td>0.061522</td>\n",
       "      <td>0.134885</td>\n",
       "      <td>0.006221</td>\n",
       "      <td>-0.043367</td>\n",
       "      <td>-0.025341</td>\n",
       "      <td>0.036879</td>\n",
       "      <td>...</td>\n",
       "      <td>-0.042376</td>\n",
       "      <td>0.014670</td>\n",
       "      <td>-0.000854</td>\n",
       "      <td>0.006870</td>\n",
       "      <td>0.002069</td>\n",
       "      <td>0.045865</td>\n",
       "      <td>-0.073072</td>\n",
       "      <td>-0.031078</td>\n",
       "      <td>0.125244</td>\n",
       "      <td>1</td>\n",
       "    </tr>\n",
       "    <tr>\n",
       "      <th>999</th>\n",
       "      <td>0.259431</td>\n",
       "      <td>-0.107682</td>\n",
       "      <td>-0.018192</td>\n",
       "      <td>-0.010380</td>\n",
       "      <td>0.091432</td>\n",
       "      <td>0.078220</td>\n",
       "      <td>0.088033</td>\n",
       "      <td>0.032286</td>\n",
       "      <td>0.048481</td>\n",
       "      <td>0.016422</td>\n",
       "      <td>...</td>\n",
       "      <td>-0.009961</td>\n",
       "      <td>0.079729</td>\n",
       "      <td>-0.082972</td>\n",
       "      <td>0.136640</td>\n",
       "      <td>0.022176</td>\n",
       "      <td>0.003778</td>\n",
       "      <td>-0.064359</td>\n",
       "      <td>-0.040839</td>\n",
       "      <td>0.077670</td>\n",
       "      <td>1</td>\n",
       "    </tr>\n",
       "  </tbody>\n",
       "</table>\n",
       "<p>1000 rows × 65 columns</p>\n",
       "</div>"
      ],
      "text/plain": [
       "         emb1      emb2      emb3      emb4      emb5      emb6      emb7  \\\n",
       "0    0.228962  0.083805 -0.140420 -0.033234  0.042628  0.007385  0.074834   \n",
       "1    0.112345 -0.110162 -0.049215  0.030967  0.059604  0.020554  0.159742   \n",
       "2    0.193050  0.193153 -0.204177 -0.094694  0.036922 -0.060042  0.097124   \n",
       "3    0.091823 -0.134413 -0.072570  0.071144  0.043333  0.093897  0.121458   \n",
       "4   -0.001039  0.072989 -0.112819 -0.123128  0.040796 -0.047505  0.212016   \n",
       "..        ...       ...       ...       ...       ...       ...       ...   \n",
       "995 -0.011442 -0.044228 -0.135488  0.006562  0.139129  0.020007  0.188978   \n",
       "996  0.019073  0.117217  0.076421 -0.255333 -0.202184 -0.166018  0.004149   \n",
       "997 -0.080405 -0.113715 -0.178541 -0.038824  0.009713 -0.095919  0.087858   \n",
       "998  0.302978 -0.071349 -0.109753  0.047268  0.061522  0.134885  0.006221   \n",
       "999  0.259431 -0.107682 -0.018192 -0.010380  0.091432  0.078220  0.088033   \n",
       "\n",
       "         emb8      emb9     emb10  ...     emb56     emb57     emb58  \\\n",
       "0   -0.057010 -0.065887  0.004487  ...  0.046837 -0.073768 -0.009309   \n",
       "1    0.056014 -0.008418  0.097214  ... -0.074082 -0.060490 -0.061794   \n",
       "2   -0.087261  0.017398  0.004848  ... -0.068493 -0.082819  0.016868   \n",
       "3    0.040021  0.004845 -0.023117  ... -0.058172  0.033966 -0.008498   \n",
       "4   -0.138357  0.099370  0.032931  ...  0.016640  0.033006 -0.029080   \n",
       "..        ...       ...       ...  ...       ...       ...       ...   \n",
       "995 -0.187108  0.035097 -0.081460  ...  0.062804  0.097173 -0.014781   \n",
       "996 -0.025671 -0.058100  0.062228  ...  0.088084 -0.161992 -0.138375   \n",
       "997 -0.173818 -0.077768 -0.207995  ... -0.092152 -0.123822  0.075535   \n",
       "998 -0.043367 -0.025341  0.036879  ... -0.042376  0.014670 -0.000854   \n",
       "999  0.032286  0.048481  0.016422  ... -0.009961  0.079729 -0.082972   \n",
       "\n",
       "        emb59     emb60     emb61     emb62     emb63     emb64  label  \n",
       "0    0.047397  0.013749 -0.144846  0.016526  0.059148  0.028196      0  \n",
       "1    0.009771  0.192610  0.071524 -0.074423  0.160235  0.110978      0  \n",
       "2   -0.026742  0.214230 -0.067817  0.069325 -0.055631  0.042263      0  \n",
       "3    0.042473  0.175773 -0.026874 -0.069125 -0.116104  0.103617      0  \n",
       "4    0.006594  0.260974  0.031444  0.004193 -0.022474  0.068863      0  \n",
       "..        ...       ...       ...       ...       ...       ...    ...  \n",
       "995  0.106411  0.179583 -0.070074  0.077377  0.068020  0.032537      1  \n",
       "996 -0.107549  0.133772  0.092842 -0.161691 -0.128737  0.107607      1  \n",
       "997 -0.011656  0.123321  0.145299 -0.215023 -0.082978  0.138191      1  \n",
       "998  0.006870  0.002069  0.045865 -0.073072 -0.031078  0.125244      1  \n",
       "999  0.136640  0.022176  0.003778 -0.064359 -0.040839  0.077670      1  \n",
       "\n",
       "[1000 rows x 65 columns]"
      ]
     },
     "execution_count": 8,
     "metadata": {},
     "output_type": "execute_result"
    }
   ],
   "source": [
    "imdb_binary_df"
   ]
  },
  {
   "cell_type": "markdown",
   "metadata": {},
   "source": [
    "Loading dataset"
   ]
  }
 ],
 "metadata": {
  "kernelspec": {
   "display_name": "Python 3",
   "language": "python",
   "name": "python3"
  },
  "language_info": {
   "codemirror_mode": {
    "name": "ipython",
    "version": 3
   },
   "file_extension": ".py",
   "mimetype": "text/x-python",
   "name": "python",
   "nbconvert_exporter": "python",
   "pygments_lexer": "ipython3",
   "version": "3.7.6"
  }
 },
 "nbformat": 4,
 "nbformat_minor": 4
}
