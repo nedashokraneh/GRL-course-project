{
 "cells": [
  {
   "cell_type": "raw",
   "metadata": {},
   "source": [
    "Training and fine-tuning "
   ]
  },
  {
   "cell_type": "code",
   "execution_count": 43,
   "metadata": {},
   "outputs": [],
   "source": [
    "import numpy as np\n",
    "import pandas as pd\n",
    "import os\n",
    "import sys\n",
    "sys.path.append(\"..\")\n",
    "import torch\n",
    "import gcc\n",
    "from gcc.datasets import (\n",
    "    GRAPH_CLASSIFICATION_DSETS,\n",
    "    GraphClassificationDataset,\n",
    "    GraphClassificationDatasetLabeled,\n",
    "    #LoadBalanceGraphDataset,\n",
    "    NodeClassificationDataset,\n",
    "    NodeClassificationDatasetLabeled,\n",
    "    worker_init_fn,\n",
    ")\n",
    "from gcc.datasets.data_util import batcher\n",
    "from gcc.models import GraphEncoder\n",
    "from gcc.datasets import data_util\n",
    "from collections import defaultdict, namedtuple\n"
   ]
  },
  {
   "cell_type": "code",
   "execution_count": 2,
   "metadata": {},
   "outputs": [],
   "source": [
    "def print_model_args(args):\n",
    "    for arg in vars(args):\n",
    "        print(arg , \" \", vars(args)[arg])\n",
    "        \n",
    "def test_moco(train_loader, model, opt):\n",
    "    \"\"\"\n",
    "    one epoch training for moco\n",
    "    \"\"\"\n",
    "\n",
    "    model.eval()\n",
    "\n",
    "    emb_list = []\n",
    "    for idx, batch in enumerate(train_loader):\n",
    "        graph_q, graph_k = batch\n",
    "        bsz = graph_q.batch_size\n",
    "        graph_q.to(opt.device)\n",
    "        graph_k.to(opt.device)\n",
    "\n",
    "        with torch.no_grad():\n",
    "            feat_q = model(graph_q)\n",
    "            feat_k = model(graph_k)\n",
    "\n",
    "        assert feat_q.shape == (bsz, opt.hidden_size)\n",
    "        emb_list.append(((feat_q + feat_k) / 2).detach().cpu())\n",
    "    return torch.cat(emb_list)"
   ]
  },
  {
   "cell_type": "markdown",
   "metadata": {},
   "source": [
    "Loading and training models"
   ]
  },
  {
   "cell_type": "code",
   "execution_count": 3,
   "metadata": {},
   "outputs": [
    {
     "data": {
      "text/plain": [
       "<All keys matched successfully>"
      ]
     },
     "execution_count": 3,
     "metadata": {},
     "output_type": "execute_result"
    }
   ],
   "source": [
    "checkpoint = torch.load('../saved/Pretrain_moco_False_dgl_gin_layer_5_lr_0.005_decay_1e-05_bsz_256_hid_64_samples_2000_nce_t_0.07_nce_k_32_rw_hops_256_restart_prob_0.8_aug_1st_ft_False_deg_16_pos_32_momentum_0.999/current.pth', map_location=\"cpu\")\n",
    "#print_model_args(checkpoint[\"opt\"])\n",
    "args = checkpoint[\"opt\"]\n",
    "args.device = torch.device(\"cpu\")\n",
    "model = GraphEncoder(\n",
    "        positional_embedding_size=args.positional_embedding_size,\n",
    "        max_node_freq=args.max_node_freq,\n",
    "        max_edge_freq=args.max_edge_freq,\n",
    "        max_degree=args.max_degree,\n",
    "        freq_embedding_size=args.freq_embedding_size,\n",
    "        degree_embedding_size=args.degree_embedding_size,\n",
    "        output_dim=args.hidden_size,\n",
    "        node_hidden_dim=args.hidden_size,\n",
    "        edge_hidden_dim=args.hidden_size,\n",
    "        num_layers=args.num_layer,\n",
    "        num_step_set2set=args.set2set_iter,\n",
    "        num_layer_set2set=args.set2set_lstm_layer,\n",
    "        gnn_model=args.model,\n",
    "        norm=args.norm,\n",
    "        degree_input=True,\n",
    "    )\n",
    "model.load_state_dict(checkpoint[\"model\"])"
   ]
  },
  {
   "cell_type": "code",
   "execution_count": null,
   "metadata": {},
   "outputs": [],
   "source": [
    "save_results_to = '/media/nedooshki/f4f0aea6-900a-437f-82e1-238569330477/GRL-course-project/results'\n",
    "def create_dataframe_save_to_csv(embeddings, labels, dataset_name, model_name, save_path):\n",
    "    filename = '{}_{}.csv'.format(dataset_name, model_name)\n",
    "    emb_df = pd.DataFrame(np.array(embeddings))\n",
    "    emb_df.columns = ['emb' + str(e+1) for e in range(emb_df.shape[1])]\n",
    "    emb_df['label'] = labels\n",
    "    emb_df.to_csv(os.path.join(save_path, filename), sep='\\t', index=False)"
   ]
  },
  {
   "cell_type": "markdown",
   "metadata": {},
   "source": [
    "loading dataset"
   ]
  },
  {
   "cell_type": "code",
   "execution_count": 35,
   "metadata": {},
   "outputs": [],
   "source": [
    "imdb_binary_train_dataset = GraphClassificationDataset(\n",
    "            dataset='imdb-binary',\n",
    "            rw_hops=args.rw_hops,\n",
    "            subgraph_size=args.subgraph_size,\n",
    "            restart_prob=args.restart_prob,\n",
    "            positional_embedding_size=args.positional_embedding_size,\n",
    "        )\n",
    "args.batch_size = len(imdb_binary_train_dataset)\n",
    "imdb_binary_train_loader = torch.utils.data.DataLoader(\n",
    "    dataset=imdb_binary_train_dataset,\n",
    "    batch_size=args.batch_size,\n",
    "    collate_fn=batcher(),\n",
    "    shuffle=False,\n",
    "    num_workers=args.num_workers,\n",
    ")\n",
    "imdb_binary_emb = test_moco(imdb_binary_train_loader, model, args)\n",
    "imdb_binary_labels = data_util.create_graph_classification_dataset(\"imdb-binary\").graph_labels\n",
    "create_dataframe_save_to_csv(imdb_binary_emb,imdb_binary_labels,'imdbb','GCC',save_results_to)"
   ]
  },
  {
   "cell_type": "code",
   "execution_count": 34,
   "metadata": {},
   "outputs": [
    {
     "name": "stdout",
     "output_type": "stream",
     "text": [
      "Downloading /home/nedooshki/.dgl/tu_IMDB-MULTI.zip from https://ls11-www.cs.tu-dortmund.de/people/morris/graphkerneldatasets/IMDB-MULTI.zip...\n",
      "Extracting file to /home/nedooshki/.dgl/tu_IMDB-MULTI\n"
     ]
    }
   ],
   "source": [
    "imdb_multi_train_dataset = GraphClassificationDataset(\n",
    "            dataset='imdb-multi',\n",
    "            rw_hops=args.rw_hops,\n",
    "            subgraph_size=args.subgraph_size,\n",
    "            restart_prob=args.restart_prob,\n",
    "            positional_embedding_size=args.positional_embedding_size,\n",
    "        )\n",
    "args.batch_size = len(imdb_multi_train_dataset)\n",
    "imdb_multi_train_loader = torch.utils.data.DataLoader(\n",
    "    dataset=imdb_multi_train_dataset,\n",
    "    batch_size=args.batch_size,\n",
    "    collate_fn=batcher(),\n",
    "    shuffle=False,\n",
    "    num_workers=args.num_workers,\n",
    ")\n",
    "imdb_multi_emb = test_moco(imdb_multi_train_loader, model, args)\n",
    "imdb_multi_labels = data_util.create_graph_classification_dataset(\"imdb-multi\").graph_labels\n",
    "create_dataframe_save_to_csv(imdb_multi_emb,imdb_multi_labels,'imdbm','GCC',save_results_to)"
   ]
  },
  {
   "cell_type": "code",
   "execution_count": 6,
   "metadata": {},
   "outputs": [],
   "source": [
    "bbbp_train_dataset = GraphClassificationDataset(\n",
    "            dataset='bbbp',\n",
    "            rw_hops=args.rw_hops,\n",
    "            subgraph_size=args.subgraph_size,\n",
    "            restart_prob=args.restart_prob,\n",
    "            positional_embedding_size=args.positional_embedding_size,\n",
    "        )\n",
    "args.batch_size = len(bbbp_train_dataset)\n",
    "bbbp_train_loader = torch.utils.data.DataLoader(\n",
    "    dataset=bbbp_train_dataset,\n",
    "    batch_size=args.batch_size,\n",
    "    collate_fn=batcher(),\n",
    "    shuffle=False,\n",
    "    num_workers=args.num_workers,\n",
    ")\n",
    "bbbp_emb = test_moco(bbbp_train_loader, model, args)\n",
    "bbbp_labels = data_util.create_graph_classification_dataset(\"bbbp\").graph_labels\n",
    "create_dataframe_save_to_csv(bbbp_emb,bbbp_labels,'bbbp','GCC',save_results_to)"
   ]
  },
  {
   "cell_type": "code",
   "execution_count": 36,
   "metadata": {},
   "outputs": [
    {
     "name": "stderr",
     "output_type": "stream",
     "text": [
      "Downloading https://deepchemdata.s3-us-west-1.amazonaws.com/datasets/bace.csv\n",
      "Processing...\n",
      "RDKit WARNING: [03:04:44] Enabling RDKit 2019.09.2 jupyter extensions\n",
      "Done!\n"
     ]
    }
   ],
   "source": [
    "bace_train_dataset = GraphClassificationDataset(\n",
    "            dataset='bace',\n",
    "            rw_hops=args.rw_hops,\n",
    "            subgraph_size=args.subgraph_size,\n",
    "            restart_prob=args.restart_prob,\n",
    "            positional_embedding_size=args.positional_embedding_size,\n",
    "        )\n",
    "args.batch_size = len(bace_train_dataset)\n",
    "bace_train_loader = torch.utils.data.DataLoader(\n",
    "    dataset=bace_train_dataset,\n",
    "    batch_size=args.batch_size,\n",
    "    collate_fn=batcher(),\n",
    "    shuffle=False,\n",
    "    num_workers=args.num_workers,\n",
    ")\n",
    "bace_emb = test_moco(bace_train_loader, model, args)\n",
    "bace_labels = data_util.create_graph_classification_dataset(\"bace\").graph_labels\n",
    "create_dataframe_save_to_csv(bace_emb,bace_labels,'bace','GCC',save_results_to)"
   ]
  }
 ],
 "metadata": {
  "kernelspec": {
   "display_name": "GCC",
   "language": "python",
   "name": "gcc"
  },
  "language_info": {
   "codemirror_mode": {
    "name": "ipython",
    "version": 3
   },
   "file_extension": ".py",
   "mimetype": "text/x-python",
   "name": "python",
   "nbconvert_exporter": "python",
   "pygments_lexer": "ipython3",
   "version": "3.7.11"
  }
 },
 "nbformat": 4,
 "nbformat_minor": 4
}
