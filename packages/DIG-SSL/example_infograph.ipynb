{
 "cells": [
  {
   "cell_type": "markdown",
   "metadata": {},
   "source": [
    "## Example of InfoGraph"
   ]
  },
  {
   "cell_type": "markdown",
   "metadata": {},
   "source": [
    "### Graph level representation learning"
   ]
  },
  {
   "cell_type": "code",
   "execution_count": 1,
   "metadata": {},
   "outputs": [],
   "source": [
    "from sslgraph.utils import Encoder, get_dataset\n",
    "from sslgraph.utils.eval_graph import EvalUnsupevised\n",
    "from sslgraph.contrastive.model import InfoGraph"
   ]
  },
  {
   "cell_type": "markdown",
   "metadata": {},
   "source": [
    "#### Loading dataset"
   ]
  },
  {
   "cell_type": "code",
   "execution_count": 3,
   "metadata": {},
   "outputs": [
    {
     "name": "stderr",
     "output_type": "stream",
     "text": [
      "Downloading https://ls11-www.cs.tu-dortmund.de/people/morris/graphkerneldatasets/MUTAG.zip\n",
      "Extracting unsuper_dataset/MUTAG/MUTAG.zip\n",
      "Processing...\n",
      "Done!\n"
     ]
    }
   ],
   "source": [
    "dataset = get_dataset('MUTAG', task='unsupervised')"
   ]
  },
  {
   "cell_type": "code",
   "execution_count": 4,
   "metadata": {},
   "outputs": [
    {
     "data": {
      "text/plain": [
       "MUTAG(188)"
      ]
     },
     "execution_count": 4,
     "metadata": {},
     "output_type": "execute_result"
    }
   ],
   "source": [
    "dataset"
   ]
  },
  {
   "cell_type": "markdown",
   "metadata": {},
   "source": [
    "#### Define encoders and contrastive model"
   ]
  },
  {
   "cell_type": "code",
   "execution_count": 5,
   "metadata": {},
   "outputs": [],
   "source": [
    "embed_dim = 512\n",
    "encoder = Encoder(feat_dim=dataset[0].x.shape[1], hidden_dim=embed_dim, \n",
    "                  n_layers=4, gnn='gin', node_level=True)\n",
    "infograph = InfoGraph(embed_dim*4, z_n_dim=embed_dim)"
   ]
  },
  {
   "cell_type": "markdown",
   "metadata": {},
   "source": [
    "#### Perform evaluation\n",
    "`log_interval=k` determines to perform evaluation with linear classification per k epochs."
   ]
  },
  {
   "cell_type": "code",
   "execution_count": 6,
   "metadata": {},
   "outputs": [
    {
     "name": "stderr",
     "output_type": "stream",
     "text": [
      "/home/nshokran/miniconda3/envs/GRL/lib/python3.7/site-packages/torch_geometric/deprecation.py:13: UserWarning: 'data.DataLoader' is deprecated, use 'loader.DataLoader' instead\n",
      "  warnings.warn(out)\n",
      "Pretraining: epoch 2:   5%|▌         | 1/20 [00:05<01:39,  5.25s/it, loss=1.524414]/home/nshokran/miniconda3/envs/GRL/lib/python3.7/site-packages/torch_geometric/deprecation.py:13: UserWarning: 'data.DataLoader' is deprecated, use 'loader.DataLoader' instead\n",
      "  warnings.warn(out)\n",
      "Pretraining: epoch 3:  10%|█         | 2/20 [00:10<01:34,  5.24s/it, loss=342.001923]/home/nshokran/miniconda3/envs/GRL/lib/python3.7/site-packages/torch_geometric/deprecation.py:13: UserWarning: 'data.DataLoader' is deprecated, use 'loader.DataLoader' instead\n",
      "  warnings.warn(out)\n",
      "Pretraining: epoch 4:  15%|█▌        | 3/20 [00:15<01:26,  5.08s/it, loss=9.355829]  /home/nshokran/miniconda3/envs/GRL/lib/python3.7/site-packages/torch_geometric/deprecation.py:13: UserWarning: 'data.DataLoader' is deprecated, use 'loader.DataLoader' instead\n",
      "  warnings.warn(out)\n",
      "Pretraining: epoch 5:  20%|██        | 4/20 [00:20<01:19,  4.98s/it, loss=4.776104]/home/nshokran/miniconda3/envs/GRL/lib/python3.7/site-packages/torch_geometric/deprecation.py:13: UserWarning: 'data.DataLoader' is deprecated, use 'loader.DataLoader' instead\n",
      "  warnings.warn(out)\n",
      "Pretraining: epoch 6:  25%|██▌       | 5/20 [00:25<01:14,  4.99s/it, loss=13.924095]/home/nshokran/miniconda3/envs/GRL/lib/python3.7/site-packages/torch_geometric/deprecation.py:13: UserWarning: 'data.DataLoader' is deprecated, use 'loader.DataLoader' instead\n",
      "  warnings.warn(out)\n",
      "Pretraining: epoch 7:  30%|███       | 6/20 [00:30<01:09,  4.93s/it, loss=0.260457] /home/nshokran/miniconda3/envs/GRL/lib/python3.7/site-packages/torch_geometric/deprecation.py:13: UserWarning: 'data.DataLoader' is deprecated, use 'loader.DataLoader' instead\n",
      "  warnings.warn(out)\n",
      "Pretraining: epoch 8:  35%|███▌      | 7/20 [00:34<01:03,  4.90s/it, loss=2.431305]/home/nshokran/miniconda3/envs/GRL/lib/python3.7/site-packages/torch_geometric/deprecation.py:13: UserWarning: 'data.DataLoader' is deprecated, use 'loader.DataLoader' instead\n",
      "  warnings.warn(out)\n",
      "Pretraining: epoch 9:  40%|████      | 8/20 [00:39<00:58,  4.89s/it, loss=0.133399]/home/nshokran/miniconda3/envs/GRL/lib/python3.7/site-packages/torch_geometric/deprecation.py:13: UserWarning: 'data.DataLoader' is deprecated, use 'loader.DataLoader' instead\n",
      "  warnings.warn(out)\n",
      "Pretraining: epoch 10:  45%|████▌     | 9/20 [00:44<00:52,  4.81s/it, loss=2.990603]/home/nshokran/miniconda3/envs/GRL/lib/python3.7/site-packages/torch_geometric/deprecation.py:13: UserWarning: 'data.DataLoader' is deprecated, use 'loader.DataLoader' instead\n",
      "  warnings.warn(out)\n",
      "Pretraining: epoch 11:  50%|█████     | 10/20 [00:49<00:47,  4.79s/it, loss=0.698962]/home/nshokran/miniconda3/envs/GRL/lib/python3.7/site-packages/torch_geometric/deprecation.py:13: UserWarning: 'data.DataLoader' is deprecated, use 'loader.DataLoader' instead\n",
      "  warnings.warn(out)\n",
      "Pretraining: epoch 12:  55%|█████▌    | 11/20 [00:54<00:43,  4.85s/it, loss=1.105093]/home/nshokran/miniconda3/envs/GRL/lib/python3.7/site-packages/torch_geometric/deprecation.py:13: UserWarning: 'data.DataLoader' is deprecated, use 'loader.DataLoader' instead\n",
      "  warnings.warn(out)\n",
      "Pretraining: epoch 13:  60%|██████    | 12/20 [00:59<00:39,  4.89s/it, loss=1.303879]/home/nshokran/miniconda3/envs/GRL/lib/python3.7/site-packages/torch_geometric/deprecation.py:13: UserWarning: 'data.DataLoader' is deprecated, use 'loader.DataLoader' instead\n",
      "  warnings.warn(out)\n",
      "Pretraining: epoch 14:  65%|██████▌   | 13/20 [01:03<00:34,  4.86s/it, loss=0.120381]/home/nshokran/miniconda3/envs/GRL/lib/python3.7/site-packages/torch_geometric/deprecation.py:13: UserWarning: 'data.DataLoader' is deprecated, use 'loader.DataLoader' instead\n",
      "  warnings.warn(out)\n",
      "Pretraining: epoch 15:  70%|███████   | 14/20 [01:08<00:28,  4.83s/it, loss=0.633514]/home/nshokran/miniconda3/envs/GRL/lib/python3.7/site-packages/torch_geometric/deprecation.py:13: UserWarning: 'data.DataLoader' is deprecated, use 'loader.DataLoader' instead\n",
      "  warnings.warn(out)\n",
      "Pretraining: epoch 16:  75%|███████▌  | 15/20 [01:13<00:24,  4.83s/it, loss=0.637700]/home/nshokran/miniconda3/envs/GRL/lib/python3.7/site-packages/torch_geometric/deprecation.py:13: UserWarning: 'data.DataLoader' is deprecated, use 'loader.DataLoader' instead\n",
      "  warnings.warn(out)\n",
      "Pretraining: epoch 17:  80%|████████  | 16/20 [01:18<00:19,  4.85s/it, loss=0.008809]/home/nshokran/miniconda3/envs/GRL/lib/python3.7/site-packages/torch_geometric/deprecation.py:13: UserWarning: 'data.DataLoader' is deprecated, use 'loader.DataLoader' instead\n",
      "  warnings.warn(out)\n",
      "Pretraining: epoch 18:  85%|████████▌ | 17/20 [01:22<00:14,  4.77s/it, loss=0.363211]/home/nshokran/miniconda3/envs/GRL/lib/python3.7/site-packages/torch_geometric/deprecation.py:13: UserWarning: 'data.DataLoader' is deprecated, use 'loader.DataLoader' instead\n",
      "  warnings.warn(out)\n",
      "Pretraining: epoch 19:  90%|█████████ | 18/20 [01:27<00:09,  4.71s/it, loss=0.392328]/home/nshokran/miniconda3/envs/GRL/lib/python3.7/site-packages/torch_geometric/deprecation.py:13: UserWarning: 'data.DataLoader' is deprecated, use 'loader.DataLoader' instead\n",
      "  warnings.warn(out)\n",
      "Pretraining: epoch 20:  95%|█████████▌| 19/20 [01:32<00:04,  4.68s/it, loss=0.020092]/home/nshokran/miniconda3/envs/GRL/lib/python3.7/site-packages/torch_geometric/deprecation.py:13: UserWarning: 'data.DataLoader' is deprecated, use 'loader.DataLoader' instead\n",
      "  warnings.warn(out)\n",
      "Pretraining: epoch 20: 100%|██████████| 20/20 [01:37<00:00,  4.86s/it, loss=0.187258]"
     ]
    },
    {
     "name": "stdout",
     "output_type": "stream",
     "text": [
      "Best epoch 1: acc 0.8991 +/-(0.0761)\n"
     ]
    },
    {
     "name": "stderr",
     "output_type": "stream",
     "text": [
      "\n"
     ]
    },
    {
     "data": {
      "text/plain": [
       "(0.8991228070175439, 0.0761388886253192)"
      ]
     },
     "execution_count": 6,
     "metadata": {},
     "output_type": "execute_result"
    }
   ],
   "source": [
    "evaluator = EvalUnsupevised(dataset, log_interval=1)\n",
    "evaluator.setup_train_config(batch_size=256, p_lr=0.001, p_epoch=20)\n",
    "evaluator.evaluate(learning_model=infograph, encoder=encoder)"
   ]
  }
 ],
 "metadata": {
  "kernelspec": {
   "display_name": "GRL",
   "language": "python",
   "name": "grl"
  },
  "language_info": {
   "codemirror_mode": {
    "name": "ipython",
    "version": 3
   },
   "file_extension": ".py",
   "mimetype": "text/x-python",
   "name": "python",
   "nbconvert_exporter": "python",
   "pygments_lexer": "ipython3",
   "version": "3.7.11"
  }
 },
 "nbformat": 4,
 "nbformat_minor": 4
}
